{
    "cells": [
        {
            "cell_type": "markdown",
            "metadata": {
                "collapsed": true
            },
            "source": "<h1>\n    <font color='red'><font size=10em>\n        Applied Data Science  \n    </font>\n<h1>"
        },
        {
            "cell_type": "markdown",
            "metadata": {},
            "source": "<br></br>\n<p style=\"font-family: Arial; font-size:2em; color:black\">\n    <strong>\n        <em>\n            This notebook will be mainly used for the capstone project\n        </em>\n    </strong>\n</p>\n<br></br>\n<br></br>"
        },
        {
            "cell_type": "markdown",
            "metadata": {},
            "source": "<p style=\"font-family: Calibri; font-size:1.5em; color:black\">  \n        Imoprting Required Liblaries  \n</p>"
        },
        {
            "cell_type": "code",
            "execution_count": 20,
            "metadata": {},
            "outputs": [],
            "source": "import pandas as pd\nimport numpy as np"
        },
        {
            "cell_type": "markdown",
            "metadata": {},
            "source": "<br></br>\n<p style=\"font-family: Calibri; font-size:1.5em; color:black\">  \n         Hello Capstone Project Course!  \n</p>\n<br></br>"
        }
    ],
    "metadata": {
        "kernelspec": {
            "display_name": "Python 3.7",
            "language": "python",
            "name": "python3"
        },
        "language_info": {
            "codemirror_mode": {
                "name": "ipython",
                "version": 3
            },
            "file_extension": ".py",
            "mimetype": "text/x-python",
            "name": "python",
            "nbconvert_exporter": "python",
            "pygments_lexer": "ipython3",
            "version": "3.7.9"
        }
    },
    "nbformat": 4,
    "nbformat_minor": 1
}